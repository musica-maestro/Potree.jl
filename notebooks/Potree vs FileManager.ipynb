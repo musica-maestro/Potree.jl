{
 "metadata": {
  "language_info": {
   "codemirror_mode": {
    "name": "ipython",
    "version": 3
   },
   "file_extension": ".py",
   "mimetype": "text/x-python",
   "name": "python",
   "nbconvert_exporter": "python",
   "pygments_lexer": "ipython3",
   "version": 3
  },
  "orig_nbformat": 2,
  "kernelspec": {
   "name": "julia-1.5",
   "display_name": "Julia 1.5.3",
   "language": "julia"
  }
 },
 "nbformat": 4,
 "nbformat_minor": 2,
 "cells": [
  {
   "cell_type": "code",
   "execution_count": 3,
   "metadata": {},
   "outputs": [
    {
     "output_type": "execute_result",
     "data": {
      "text/plain": [
       "\"C:/Users/Alessio/.julia/dev/Potree/potree/stairsBIN(v1.7)\""
      ]
     },
     "metadata": {},
     "execution_count": 3
    }
   ],
   "source": [
    "using Potree\n",
    "using FileManager\n",
    "using Visualization\n",
    "using BenchmarkTools\n",
    "\n",
    "potree = \"C:/Users/Alessio/.julia/dev/Potree/potree/stairsLAS(v1.7)\"\n",
    "potreeBin = \"C:/Users/Alessio/.julia/dev/Potree/potree/stairsBIN(v1.7)\""
   ]
  },
  {
   "cell_type": "code",
   "execution_count": 4,
   "metadata": {},
   "outputs": [
    {
     "output_type": "stream",
     "name": "stdout",
     "text": [
      "@btime for FileManager: potree2triee, get_all_values, las2pointcloud\n",
      "  2.741 ms (4931 allocations: 359.16 KiB)\n",
      "  9.299 μs (219 allocations: 10.08 KiB)\n",
      "  507.719 ms (1414265 allocations: 446.38 MiB)\n"
     ]
    },
    {
     "output_type": "execute_result",
     "data": {
      "text/plain": [
       "Common.PointCloud(3, 357003, [4.2160147800445555 4.462014780044556 … 4.407258371829987 4.406258371829987; 1.9006037149429322 1.1706037149429322 … 0.37768491220474243 0.34768491220474246; -0.35032468795776367 -0.8463246879577636 … 0.834837706565857 0.828837706565857], FixedPointNumbers.Normed{UInt16,16}[0.9922N0f16 0.35157N0f16 … 0.55079N0f16 0.51563N0f16; 0.87892N0f16 0.35547N0f16 … 0.4922N0f16 0.45313N0f16; 0.71095N0f16 0.30469N0f16 … 0.39063N0f16 0.39063N0f16], Array{Any}(undef,0,0))"
      ]
     },
     "metadata": {},
     "execution_count": 4
    }
   ],
   "source": [
    "println(\"@btime for FileManager: potree2triee, get_all_values, las2pointcloud\")\n",
    "FMtrie = @btime FileManager.potree2trie($potree)\n",
    "FMall_files = @btime FileManager.get_all_values($FMtrie)\n",
    "FMPC = @btime FileManager.las2pointcloud($FMall_files...)"
   ]
  },
  {
   "cell_type": "code",
   "execution_count": 5,
   "metadata": {},
   "outputs": [
    {
     "output_type": "stream",
     "name": "stdout",
     "text": [
      "@btime for Potree: potree2triee, get_all_values, las2pointcloud\n",
      "  2.775 ms (4933 allocations: 359.28 KiB)\n",
      "  9.499 μs (219 allocations: 10.08 KiB)\n",
      "  492.109 ms (1414279 allocations: 446.38 MiB)\n"
     ]
    },
    {
     "output_type": "execute_result",
     "data": {
      "text/plain": [
       "Common.PointCloud(3, 357003, [4.2160147800445555 4.462014780044556 … 4.407258371829987 4.406258371829987; 1.9006037149429322 1.1706037149429322 … 0.37768491220474243 0.34768491220474246; -0.35032468795776367 -0.8463246879577636 … 0.834837706565857 0.828837706565857], FixedPointNumbers.Normed{UInt16,16}[0.9922N0f16 0.35157N0f16 … 0.55079N0f16 0.51563N0f16; 0.87892N0f16 0.35547N0f16 … 0.4922N0f16 0.45313N0f16; 0.71095N0f16 0.30469N0f16 … 0.39063N0f16 0.39063N0f16], Array{Any}(undef,0,0))"
      ]
     },
     "metadata": {},
     "execution_count": 5
    }
   ],
   "source": [
    "println(\"@btime for Potree: potree2triee, get_all_values, las2pointcloud\")\n",
    "Ptrie = @btime Potree.potree2trie($potree)\n",
    "PMall_files = @btime Potree.get_all_values($Ptrie)\n",
    "PPC = @btime Potree.las2pointcloud($PMall_files...)"
   ]
  },
  {
   "cell_type": "code",
   "execution_count": null,
   "metadata": {},
   "outputs": [],
   "source": [
    "Multithreading su notebook NON si può fare"
   ]
  }
 ]
}