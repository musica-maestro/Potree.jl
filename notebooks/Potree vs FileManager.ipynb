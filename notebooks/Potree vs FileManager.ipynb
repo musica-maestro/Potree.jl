{
 "metadata": {
  "language_info": {
   "codemirror_mode": {
    "name": "ipython",
    "version": 3
   },
   "file_extension": ".py",
   "mimetype": "text/x-python",
   "name": "python",
   "nbconvert_exporter": "python",
   "pygments_lexer": "ipython3",
   "version": 3
  },
  "orig_nbformat": 2,
  "kernelspec": {
   "name": "julia-1.5",
   "display_name": "Julia 1.5.3",
   "language": "julia"
  }
 },
 "nbformat": 4,
 "nbformat_minor": 2,
 "cells": [
  {
   "cell_type": "code",
   "execution_count": 5,
   "metadata": {},
   "outputs": [],
   "source": [
    "using Potree\n",
    "using FileManager\n",
    "using Visualization\n",
    "using BenchmarkTools"
   ]
  },
  {
   "cell_type": "code",
   "execution_count": 6,
   "metadata": {},
   "outputs": [
    {
     "output_type": "execute_result",
     "data": {
      "text/plain": [
       "\"C:/Users/Alessio/Documents/potreeDirectory/pointclouds/CASALETTO\""
      ]
     },
     "metadata": {},
     "execution_count": 6
    }
   ],
   "source": [
    "# potree source Casaletto\n",
    "potree = \"C:/Users/Alessio/Documents/potreeDirectory/pointclouds/CASALETTO\" # replace this path with local potree directory"
   ]
  },
  {
   "cell_type": "code",
   "execution_count": 7,
   "metadata": {},
   "outputs": [
    {
     "output_type": "stream",
     "name": "stdout",
     "text": [
      " \n",
      "Search in C:/Users/Alessio/Documents/potreeDirectory/pointclouds/CASALETTO\\data\\r\n",
      " \n",
      "Search in C:/Users/Alessio/Documents/potreeDirectory/pointclouds/CASALETTO\\data\\r\n",
      " \n",
      "Search in C:/Users/Alessio/Documents/potreeDirectory/pointclouds/CASALETTO\\data\\r\n",
      " \n",
      "Search in C:/Users/Alessio/Documents/potreeDirectory/pointclouds/CASALETTO\\data\\r\n",
      " \n",
      "Search in C:/Users/Alessio/Documents/potreeDirectory/pointclouds/CASALETTO\\data\\r\n",
      " \n",
      "Search in C:/Users/Alessio/Documents/potreeDirectory/pointclouds/CASALETTO\\data\\r\n",
      " \n",
      "Search in C:/Users/Alessio/Documents/potreeDirectory/pointclouds/CASALETTO\\data\\r\n",
      " \n",
      "Search in C:/Users/Alessio/Documents/potreeDirectory/pointclouds/CASALETTO\\data\\r\n",
      " \n",
      "Search in C:/Users/Alessio/Documents/potreeDirectory/pointclouds/CASALETTO\\data\\r\n",
      " \n",
      "Search in C:/Users/Alessio/Documents/potreeDirectory/pointclouds/CASALETTO\\data\\r\n",
      " \n",
      "Search in C:/Users/Alessio/Documents/potreeDirectory/pointclouds/CASALETTO\\data\\r\n",
      " \n",
      "Search in C:/Users/Alessio/Documents/potreeDirectory/pointclouds/CASALETTO\\data\\r\n",
      " \n",
      "Search in C:/Users/Alessio/Documents/potreeDirectory/pointclouds/CASALETTO\\data\\r\n",
      " \n",
      "Search in C:/Users/Alessio/Documents/potreeDirectory/pointclouds/CASALETTO\\data\\r\n",
      " \n",
      "Search in C:/Users/Alessio/Documents/potreeDirectory/pointclouds/CASALETTO\\data\\r\n",
      " \n",
      "Search in C:/Users/Alessio/Documents/potreeDirectory/pointclouds/CASALETTO\\data\\r\n",
      " \n",
      "Search in C:/Users/Alessio/Documents/potreeDirectory/pointclouds/CASALETTO\\data\\r\n",
      " \n",
      "Search in C:/Users/Alessio/Documents/potreeDirectory/pointclouds/CASALETTO\\data\\r\n",
      " \n",
      "Search in C:/Users/Alessio/Documents/potreeDirectory/pointclouds/CASALETTO\\data\\r\n",
      " \n",
      "Search in C:/Users/Alessio/Documents/potreeDirectory/pointclouds/CASALETTO\\data\\r\n",
      " \n",
      "Search in C:/Users/Alessio/Documents/potreeDirectory/pointclouds/CASALETTO\\data\\r\n",
      " \n",
      "Search in C:/Users/Alessio/Documents/potreeDirectory/pointclouds/CASALETTO\\data\\r\n",
      " \n",
      "Search in C:/Users/Alessio/Documents/potreeDirectory/pointclouds/CASALETTO\\data\\r\n",
      " \n",
      "Search in C:/Users/Alessio/Documents/potreeDirectory/pointclouds/CASALETTO\\data\\r\n",
      " \n",
      "Search in C:/Users/Alessio/Documents/potreeDirectory/pointclouds/CASALETTO\\data\\r\n",
      " \n",
      "Search in C:/Users/Alessio/Documents/potreeDirectory/pointclouds/CASALETTO\\data\\r\n",
      " \n",
      "Search in C:/Users/Alessio/Documents/potreeDirectory/pointclouds/CASALETTO\\data\\r\n",
      " \n",
      "Search in C:/Users/Alessio/Documents/potreeDirectory/pointclouds/CASALETTO\\data\\r\n",
      " \n",
      "Search in C:/Users/Alessio/Documents/potreeDirectory/pointclouds/CASALETTO\\data\\r\n",
      " \n",
      "Search in C:/Users/Alessio/Documents/potreeDirectory/pointclouds/CASALETTO\\data\\r\n",
      " \n",
      "Search in C:/Users/Alessio/Documents/potreeDirectory/pointclouds/CASALETTO\\data\\r\n",
      " \n",
      "Search in C:/Users/Alessio/Documents/potreeDirectory/pointclouds/CASALETTO\\data\\r\n",
      " \n",
      "Search in C:/Users/Alessio/Documents/potreeDirectory/pointclouds/CASALETTO\\data\\r\n",
      " \n",
      "Search in C:/Users/Alessio/Documents/potreeDirectory/pointclouds/CASALETTO\\data\\r\n",
      " \n",
      "Search in C:/Users/Alessio/Documents/potreeDirectory/pointclouds/CASALETTO\\data\\r\n",
      " \n",
      "Search in C:/Users/Alessio/Documents/potreeDirectory/pointclouds/CASALETTO\\data\\r\n",
      " \n",
      "Search in C:/Users/Alessio/Documents/potreeDirectory/pointclouds/CASALETTO\\data\\r\n",
      " \n",
      "Search in C:/Users/Alessio/Documents/potreeDirectory/pointclouds/CASALETTO\\data\\r\n",
      " \n",
      "Search in C:/Users/Alessio/Documents/potreeDirectory/pointclouds/CASALETTO\\data\\r\n",
      " \n",
      "Search in C:/Users/Alessio/Documents/potreeDirectory/pointclouds/CASALETTO\\data\\r\n",
      "  297.101 ms (139324 allocations: 23.99 MiB)\n"
     ]
    },
    {
     "output_type": "execute_result",
     "data": {
      "text/plain": [
       "pointclouds/CASALETTO\\\\data\\\\r\\\\42372\\\\r42372.las\", Dict{Char,DataStructures.Trie{String}}(), true),'3' => DataStructures.Trie{String}(\"C:/Users/Alessio/Documents/potreeDirectory/pointclouds/CASALETTO\\\\data\\\\r\\\\42373\\\\r42373.las\", Dict{Char,DataStructures.Trie{String}}(), true),'4' => DataStructures.Trie{String}(\"C:/Users/Alessio/Documents/potreeDirectory/pointclouds/CASALETTO\\\\data\\\\r\\\\42374\\\\r42374.las\", Dict{Char,DataStructures.Trie{String}}(), true),'7' => DataStructures.Trie{String}(\"C:/Users/Alessio/Documents/potreeDirectory/pointclouds/CASALETTO\\\\data\\\\r\\\\42377\\\\r42377.las\", Dict{Char,DataStructures.Trie{String}}(), true),'5' => DataStructures.Trie{String}(\"C:/Users/Alessio/Documents/potreeDirectory/pointclouds/CASALETTO\\\\data\\\\r\\\\42375\\\\r42375.las\", Dict{Char,DataStructures.Trie{String}}(), true)), true),'6' => DataStructures.Trie{String}(\"C:/Users/Alessio/Documents/potreeDirectory/pointclouds/CASALETTO\\\\data\\\\r\\\\r4236.las\", Dict{Char,DataStructures.Trie{String}}(), true),'5' => DataStructures.Trie{String}(\"C:/Users/Alessio/Documents/potreeDirectory/pointclouds/CASALETTO\\\\data\\\\r\\\\r4235.las\", Dict{Char,DataStructures.Trie{String}}('2' => DataStructures.Trie{String}(\"C:/Users/Alessio/Documents/potreeDirectory/pointclouds/CASALETTO\\\\data\\\\r\\\\42352\\\\r42352.las\", Dict{Char,DataStructures.Trie{String}}(), true),'3' => DataStructures.Trie{String}(\"C:/Users/Alessio/Documents/potreeDirectory/pointclouds/CASALETTO\\\\data\\\\r\\\\42353\\\\r42353.las\", Dict{Char,DataStructures.Trie{String}}(), true),'4' => DataStructures.Trie{String}(\"C:/Users/Alessio/Documents/potreeDirectory/pointclouds/CASALETTO\\\\data\\\\r\\\\42354\\\\r42354.las\", Dict{Char,DataStructures.Trie{String}}(), true),'7' => DataStructures.Trie{String}(\"C:/Users/Alessio/Documents/potreeDirectory/pointclouds/CASALETTO\\\\data\\\\r\\\\42357\\\\r42357.las\", Dict{Char,DataStructures.Trie{String}}(), true),'6' => DataStructures.Trie{String}(\"C:/Users/Alessio/Documents/potreeDirectory/pointclouds/CASALETTO\\\\data\\\\r\\\\42356\\\\r42356.las\", Dict{Char,DataStructures.Trie{String}}(), true),'5' => DataStructures.Trie{String}(\"C:/Users/Alessio/Documents/potreeDirectory/pointclouds/CASALETTO\\\\data\\\\r\\\\42355\\\\r42355.las\", Dict{Char,DataStructures.Trie{String}}(), true)), true)), true),'4' => DataStructures.Trie{String}(\"C:/Users/Alessio/Documents/potreeDirectory/pointclouds/CASALETTO\\\\data\\\\r\\\\r424.las\", Dict{Char,DataStructures.Trie{String}}('0' => DataStructures.Trie{String}(\"C:/Users/Alessio/Documents/potreeDirectory/pointclouds/CASALETTO\\\\data\\\\r\\\\r4240.las\", Dict{Char,DataStructures.Trie{String}}('2' => DataStructures.Trie{String}(\"C:/Users/Alessio/Documents/potreeDirectory/pointclouds/CASALETTO\\\\data\\\\r\\\\42402\\\\r42402.las\", Dict{Char,DataStructures.Trie{String}}(), true),'3' => DataStructures.Trie{String}(\"C:/Users/Alessio/Documents/potreeDirectory/pointclouds/CASALETTO\\\\data\\\\r\\\\42403\\\\r42403.las\", Dict{Char,DataStructures.Trie{String}}(), true),'4' => DataStructures.Trie{String}(\"C:/Users/Alessio/Documents/potreeDirectory/pointclouds/CASALETTO\\\\data\\\\r\\\\42404\\\\r42404.las\", Dict{Char,DataStructures.Trie{String}}(), true),'7' => DataStructures.Trie{String}(\"C:/Users/Alessio/Documents/potreeDirectory/pointclouds/CASALETTO\\\\data\\\\r\\\\42407\\\\r42407.las\", Dict{Char,DataStructures.Trie{String}}(), true),'6' => DataStructures.Trie{String}(\"C:/Users/Alessio/Documents/potreeDirectory/pointclouds/CASALETTO\\\\data\\\\r\\\\42406\\\\r42406.las\", Dict{Char,DataStructures.Trie{String}}(), true),'5' => DataStructures.Trie{String}(\"C:/Users/Alessio/Documents/potreeDirectory/pointclouds/CASALETTO\\\\data\\\\r\\\\42405\\\\r42405.las\", Dict{Char,DataStructures.Trie{String}}(), true)), true),'1' => DataStructures.Trie{String}(\"C:/Users/Alessio/Documents/potreeDirectory/pointclouds/CASALETTO\\\\data\\\\r\\\\r4241.las\", Dict{Char,DataStructures.Trie{String}}('2' => DataStructures.Trie{String}(\"C:/Users/Alessio/Documents/potreeDirectory/pointclouds/CASALETTO\\\\data\\\\r\\\\42412\\\\r42412.las\", Dict{Char,DataStructures.Trie{String}}(), true),'3' => DataStructures.Trie{String}(\"C:/Users/Alessio/Documents/potreeDirectory/pointclouds/CASALETTO\\\\data\\\\r\\\\42413\\\\r42413.las\", Dict{Char,DataStructures.Trie{String}}(), true),'4' => DataStructures.Trie{String}(\"C:/Users/Alessio/Documents/potreeDirectory/pointclouds/CASALETTO\\\\data\\\\r\\\\42414\\\\r42414.las\", Dict{Char,DataStructures.Trie{String}}(), true),'7' => DataStructures.Trie{String}(\"C:/Users/Alessio/Documents/potreeDirectory/pointclouds/CASALETTO\\\\data\\\\r\\\\42417\\\\r42417.las\", Dict{Char,DataStructures.Trie{String}}(), true),'6' => DataStructures.Trie{String}(\"C:/Users/Alessio/Documents/potreeDirectory/pointclouds/CASALETTO\\\\data\\\\r\\\\42416\\\\r42416.las\", Dict{Char,DataStructures.Trie{String}}(), true),'5' => DataStructures.Trie{String}(\"C:/Users/Alessio/Documents/potreeDirectory/pointclouds/CASALETTO\\\\data\\\\r\\\\42415\\\\r42415.las\", Dict{Char,DataStructures.Trie{String}}(), true)), true),'2' => DataStructures.Trie{String}(\"C:/Users/Alessio/Documents/potreeDirectory/pointclouds/CASALETTO\\\\data\\\\r\\\\r4242.las\", Dict{Char,DataStructures.Trie{String}}('0' => DataStructures.Trie{String}(\"C:/Users/Alessio/Documents/potreeDirectory/pointclouds/CASALETTO\\\\data\\\\r\\\\42420\\\\r42420.las\", Dict{Char,DataStructures.Trie{String}}(), true),'1' => DataStructures.Trie{String}(\"C:/Users/Alessio/Documents/potreeDirectory/pointclouds/CASALETTO\\\\data\\\\r\\\\42421\\\\r42421.las\", Dict{Char,DataStructures.Trie{String}}(), true),'2' => DataStructures.Trie{String}(\"C:/Users/Alessio/Documents/potreeDirectory/pointclouds/CASALETTO\\\\data\\\\r\\\\42422\\\\r42422.las\", Dict{Char,DataStructures.Trie{String}}(), true),'3' => DataStructures.Trie{String}(\"C:/Users/Alessio/Documents/potreeDirectory/pointclouds/CASALETTO\\\\data\\\\r\\\\42423\\\\r42423.las\", Dict{Char,DataStructures.Trie{String}}(), true),'4' => DataStructures.Trie{String}(\"C:/Users/Alessio/Documents/potreeDirectory/pointclouds/CASALETTO\\\\data\\\\r\\\\42424\\\\r42424.las\", Dict{Char,DataStructures.Trie{String}}(), true),'6' => DataStructures.Trie{String}(\"C:/Users/Alessio/Documents/potreeDirectory/pointclouds/CASALETTO\\\\data\\\\r\\\\42426\\\\r42426.las\", Dict{Char,DataStructures.Trie{String}}(), true)), true),'3' => DataStructures.Trie{String}(\"C:/Users/Alessio/Documents/potreeDirectory/pointclouds/CASALETTO\\\\data\\\\r\\\\r4243.las\", Dict{Char,DataStructures.Trie{String}}('0' => DataStructures.Trie{String}(\"C:/Users/Alessio/Documents/potreeDirectory/pointclouds/CASALETTO\\\\data\\\\r\\\\42430\\\\r42430.las\", Dict{Char,DataStructures.Trie{String}}(), true),'1' => DataStructures.Trie{String}(\"C:/Users/Alessio/Documents/potreeDirectory/pointclouds/CASALETTO\\\\data\\\\r\\\\42431\\\\r42431.las\", Dict{Char,DataStructures.Trie{String}}(), true),'2' => DataStructures.Trie{String}(\"C:/Users/Alessio/Documents/potreeDirectory/pointclouds/CASALETTO\\\\data\\\\r\\\\42432\\\\r42432.las\", Dict{Char,DataStructures.Trie{String}}(), true),'3' => DataStructures.Trie{String}(\"C:/Users/Alessio/Documents/potreeDirectory/pointclouds/CASALETTO\\\\data\\\\r\\\\42433\\\\r42433.las\", Dict{Char,DataStructures.Trie{String}}(), true),'5' => DataStructures.Trie{String}(\"C:/Users/Alessio/Documents/potreeDirectory/pointclouds/CASALETTO\\\\data\\\\r\\\\42435\\\\r42435.las\", Dict{Char,DataStructures.Trie{String}}(), true)), true),'4' => DataStructures.Trie{String}(\"C:/Users/Alessio/Documents/potreeDirectory/pointclouds/CASALETTO\\\\data\\\\r\\\\r4244.las\", Dict{Char,DataStructures.Trie{String}}('0' => DataStructures.Trie{String}(\"C:/Users/Alessio/Documents/potreeDirectory/pointclouds/CASALETTO\\\\data\\\\r\\\\42440\\\\r42440.las\", Dict{Char,DataStructures.Trie{String}}(), true),'2' => DataStructures.Trie{String}(\"C:/Users/Alessio/Documents/potreeDirectory/pointclouds/CASALETTO\\\\data\\\\r\\\\42442\\\\r42442.las\", Dict{Char,DataStructures.Trie{String}}(), true),'4' => DataStructures.Trie{String}(\"C:/Users/Alessio/Documents/potreeDirectory/pointclouds/CASALETTO\\\\data\\\\r\\\\42444\\\\r42444.las\", Dict{Char,DataStructures.Trie{String}}(), true),'6' => DataStructures.Trie{String}(\"C:/Users/Alessio/Documents/potreeDirectory/pointclouds/CASALETTO\\\\data\\\\r\\\\42446\\\\r42446.las\", Dict{Char,DataStructures.Trie{String}}(), true)), true),'6' => DataStructures.Trie{String}(\"C:/Users/Alessio/Documents/potreeDirectory/pointclouds/CASALETTO\\\\data\\\\r\\\\r4246.las\", Dict{Char,DataStructures.Trie{String}}(), true),'5' => DataStructures.Trie{String}(\"C:/Users/Alessio/Documents/potreeDirectory/pointclouds/CASALETTO\\\\data\\\\r\\\\r4245.las\", Dict{Char,DataStructures.Trie{String}}(), true)), true),'7' => DataStructures.Trie{String}(\"C:/Users/Alessio/Documents/potreeDirectory/pointclouds/CASALETTO\\\\data\\\\r\\\\r427.las\", Dict{Char,DataStructures.Trie{String}}(), true),'6' => DataStructures.Trie{String}(\"C:/Users/Alessio/Documents/potreeDirectory/pointclouds/CASALETTO\\\\data\\\\r\\\\r426.las\", Dict{Char,DataStructures.Trie{String}}('0' => DataStructures.Trie{String}(\"C:/Users/Alessio/Documents/potreeDirectory/pointclouds/CASALETTO\\\\data\\\\r\\\\r4260.las\", Dict{Char,DataStructures.Trie{String}}(), true),'1' => DataStructures.Trie{String}(\"C:/Users/Alessio/Documents/potreeDirectory/pointclouds/CASALETTO\\\\data\\\\r\\\\r4261.las\", Dict{Char,DataStructures.Trie{String}}(), true),'2' => DataStructures.Trie{String}(\"C:/Users/Alessio/Documents/potreeDirectory/pointclouds/CASALETTO\\\\data\\\\r\\\\r4262.las\", Dict{Char,DataStructures.Trie{String}}(), true),'4' => DataStructures.Trie{String}(\"C:/Users/Alessio/Documents/potreeDirectory/pointclouds/CASALETTO\\\\data\\\\r\\\\r4264.las\", Dict{Char,DataStructures.Trie{String}}(), true),'6' => DataStructures.Trie{String}(\"C:/Users/Alessio/Documents/potreeDirectory/pointclouds/CASALETTO\\\\data\\\\r\\\\r4266.las\", Dict{Char,DataStructures.Trie{String}}(), true)), true),'5' => DataStructures.Trie{String}(\"C:/Users/Alessio/Documents/potreeDirectory/pointclouds/CASALETTO\\\\data\\\\r\\\\r425.las\", Dict{Char,DataStructures.Trie{String}}('0' => DataStructures.Trie{String}(\"C:/Users/Alessio/Documents/potreeDirectory/pointclouds/CASALETTO\\\\data\\\\r\\\\r4250.las\", Dict{Char,DataStructures.Trie{String}}(), true),'2' => DataStructures.Trie{String}(\"C:/Users/Alessio/Documents/potreeDirectory/pointclouds/CASALETTO\\\\data\\\\r\\\\r4252.las\", Dict{Char,DataStructures.Trie{String}}('0' => DataStructures.Trie{String}(\"C:/Users/Alessio/Documents/potreeDirectory/pointclouds/CASALETTO\\\\data\\\\r\\\\42520\\\\r42520.las\", Dict{Char,DataStructures.Trie{String}}(), true),'1' => DataStructures.Trie{String}(\"C:/Users/Alessio/Documents/potreeDirectory/pointclouds/CASALETTO\\\\data\\\\r\\\\42521\\\\r42521.las\", Dict{Char,DataStructures.Trie{String}}(), true),'2' => DataStructures.Trie{String}(\"C:/Users/Alessio/Documents/potreeDirectory/pointclouds/CASALETTO\\\\data\\\\r\\\\42522\\\\r42522.las\", Dict{Char,DataStructures.Trie{String}}(), true),'3' => DataStructures.Trie{String}(\"C:/Users/Alessio/Documents/potreeDirectory/pointclouds/CASALETTO\\\\data\\\\r\\\\42523\\\\r42523.las\", Dict{Char,DataStructures.Trie{String}}(), true),'4' => DataStructures.Trie{String}(\"C:/Users/Alessio/Documents/potreeDirectory/pointclouds/CASALETTO\\\\data\\\\r\\\\42524\\\\r42524.las\", Dict{Char,DataStructures.Trie{String}}(), true)), true),'3' => DataStructures.Trie{String}(\"C:/Users/Alessio/Documents/potreeDirectory/pointclouds/CASALETTO\\\\data\\\\r\\\\r4253.las\", Dict{Char,DataStructures.Trie{String}}('0' => DataStructures.Trie{String}(\"C:/Users/Alessio/Documents/potreeDirectory/pointclouds/CASALETTO\\\\data\\\\r\\\\42530\\\\r42530.las\", Dict{Char,DataStructures.Trie{String}}(), true),'1' => DataStructures.Trie{String}(\"C:/Users/Alessio/Documents/potreeDirectory/pointclouds/CASALETTO\\\\data\\\\r\\\\42531\\\\r42531.las\", Dict{Char,DataStructures.Trie{String}}(), true),'2' => DataStructures.Trie{String}(\"C:/Users/Alessio/Documents/potreeDirectory/pointclouds/CASALETTO\\\\data\\\\r\\\\42532\\\\r42532.las\", Dict{Char,DataStructures.Trie{String}}(), true),'3' => DataStructures.Trie{String}(\"C:/Users/Alessio/Documents/potreeDirectory/pointclouds/CASALETTO\\\\data\\\\r\\\\42533\\\\r42533.las\", Dict{Char,DataStructures.Trie{String}}(), true),'7' => DataStructures.Trie{String}(\"C:/Users/Alessio/Documents/potreeDirectory/pointclouds/CASALETTO\\\\data\\\\r\\\\42537\\\\r42537.las\", Dict{Char,DataStructures.Trie{String}}(), true),'5' => DataStructures.Trie{String}(\"C:/Users/Alessio/Documents/potreeDirectory/pointclouds/CASALETTO\\\\data\\\\r\\\\42535\\\\r42535.las\", Dict{Char,DataStructures.Trie{String}}(), true)), true),'4' => DataStructures.Trie{String}(\"C:/Users/Alessio/Documents/potreeDirectory/pointclouds/CASALETTO\\\\data\\\\r\\\\r4254.las\", Dict{Char,DataStructures.Trie{String}}(), true)), true)), true),'3' => DataStructures.Trie{String}(\"C:/Users/Alessio/Documents/potreeDirectory/pointclouds/CASALETTO\\\\data\\\\r\\\\r43.las\", Dict{Char,DataStructures.Trie{String}}('0' => DataStructures.Trie{String}(\"C:/Users/Alessio/Documents/potreeDirectory/pointclouds/CASALETTO\\\\data\\\\r\\\\r430.las\", Dict{Char,DataStructures.Trie{String}}('0' => DataStructures.Trie{String}(\"C:/Users/Alessio/Documents/potreeDirectory/pointclouds/CASALETTO\\\\data\\\\r\\\\r4300.las\", Dict{Char,DataStructures.Trie{String}}(), true),'4' => DataStructures.Trie{String}(\"C:/Users/Alessio/Documents/potreeDirectory/pointclouds/CASALETTO\\\\data\\\\r\\\\r4304.las\", Dict{Char,DataStructures.Trie{String}}(), true),'6' => DataStructures.Trie{String}(\"C:/Users/Alessio/Documents/potreeDirectory/pointclouds/CASALETTO\\\\data\\\\r\\\\r4306.las\", Dict{Char,DataStructures.Trie{String}}(), true)), true),'2' => DataStructures.Trie{String}(\"C:/Users/Alessio/Documents/potreeDirectory/pointclouds/CASALETTO\\\\data\\\\r\\\\r432.las\", Dict{Char,DataStructures.Trie{String}}(), true),'4' => DataStructures.Trie{String}(\"C:/Users/Alessio/Documents/potreeDirectory/pointclouds/CASALETTO\\\\data\\\\r\\\\r434.las\", Dict{Char,DataStructures.Trie{String}}(), true)), true),'4' => DataStructures.Trie{String}(\"C:/Users/Alessio/Documents/potreeDirectory/pointclouds/CASALETTO\\\\data\\\\r\\\\r44.las\", Dict{Char,DataStructures.Trie{String}}('2' => DataStructures.Trie{String}(\"C:/Users/Alessio/Documents/potreeDirectory/pointclouds/CASALETTO\\\\data\\\\r\\\\r442.las\", Dict{Char,DataStructures.Trie{String}}('0' => DataStructures.Trie{String}(\"C:/Users/Alessio/Documents/potreeDirectory/pointclouds/CASALETTO\\\\data\\\\r\\\\r4420.las\", Dict{Char,DataStructures.Trie{String}}(), true),'2' => DataStructures.Trie{String}(\"C:/Users/Alessio/Documents/potreeDirectory/pointclouds/CASALETTO\\\\data\\\\r\\\\r4422.las\", Dict{Char,DataStructures.Trie{String}}('0' => DataStructures.Trie{String}(\"C:/Users/Alessio/Documents/potreeDirectory/pointclouds/CASALETTO\\\\data\\\\r\\\\44220\\\\r44220.las\", Dict{Char,DataStructures.Trie{String}}(), true),'2' => DataStructures.Trie{String}(\"C:/Users/Alessio/Documents/potreeDirectory/pointclouds/CASALETTO\\\\data\\\\r\\\\44222\\\\r44222.las\", Dict{Char,DataStructures.Trie{String}}(), true),'4' => DataStructures.Trie{String}(\"C:/Users/Alessio/Documents/potreeDirectory/pointclouds/CASALETTO\\\\data\\\\r\\\\44224\\\\r44224.las\", Dict{Char,DataStructures.Trie{String}}(), true),'6' => DataStructures.Trie{String}(\"C:/Users/Alessio/Documents/potreeDirectory/pointclouds/CASALETTO\\\\data\\\\r\\\\44226\\\\r44226.las\", Dict{Char,DataStructures.Trie{String}}(), true)), true)), true)), true),'6' => DataStructures.Trie{String}(\"C:/Users/Alessio/Documents/potreeDirectory/pointclouds/CASALETTO\\\\data\\\\r\\\\r46.las\", Dict{Char,DataStructures.Trie{String}}(), true)), true),'6' => DataStructures.Trie{String}(\"C:/Users/Alessio/Documents/potreeDirectory/pointclouds/CASALETTO\\\\data\\\\r\\\\r6.las\", Dict{Char,DataStructures.Trie{String}}('0' => DataStructures.Trie{String}(\"C:/Users/Alessio/Documents/potreeDirectory/pointclouds/CASALETTO\\\\data\\\\r\\\\r60.las\", Dict{Char,DataStructures.Trie{String}}('0' => DataStructures.Trie{String}(\"C:/Users/Alessio/Documents/potreeDirectory/pointclouds/CASALETTO\\\\data\\\\r\\\\r600.las\", Dict{Char,DataStructures.Trie{String}}('0' => DataStructures.Trie{String}(\"C:/Users/Alessio/Documents/potreeDirectory/pointclouds/CASALETTO\\\\data\\\\r\\\\r6000.las\", Dict{Char,DataStructures.Trie{String}}(), true),'1' => DataStructures.Trie{String}(\"C:/Users/Alessio/Documents/potreeDirectory/pointclouds/CASALETTO\\\\data\\\\r\\\\r6001.las\", Dict{Char,DataStructures.Trie{String}}(), true),'2' => DataStructures.Trie{String}(\"C:/Users/Alessio/Documents/potreeDirectory/pointclouds/CASALETTO\\\\data\\\\r\\\\r6002.las\", Dict{Char,DataStructures.Trie{String}}(), true),'3' => DataStructures.Trie{String}(\"C:/Users/Alessio/Documents/potreeDirectory/pointclouds/CASALETTO\\\\data\\\\r\\\\r6003.las\", Dict{Char,DataStructures.Trie{String}}(), true),'4' => DataStructures.Trie{String}(\"C:/Users/Alessio/Documents/potreeDirectory/pointclouds/CASALETTO\\\\data\\\\r\\\\r6004.las\", Dict{Char,DataStructures.Trie{String}}(), true),'7' => DataStructures.Trie{String}(\"C:/Users/Alessio/Documents/potreeDirectory/pointclouds/CASALETTO\\\\data\\\\r\\\\r6007.las\", Dict{Char,DataStructures.Trie{String}}(), true),'6' => DataStructures.Trie{String}(\"C:/Users/Alessio/Documents/potreeDirectory/pointclouds/CASALETTO\\\\data\\\\r\\\\r6006.las\", Dict{Char,DataStructures.Trie{String}}(), true),'5' => DataStructures.Trie{String}(\"C:/Users/Alessio/Documents/potreeDirectory/pointclouds/CASALETTO\\\\data\\\\r\\\\r6005.las\", Dict{Char,DataStructures.Trie{String}}(), true)), true),'1' => DataStructures.Trie{String}(\"C:/Users/Alessio/Documents/potreeDirectory/pointclouds/CASALETTO\\\\data\\\\r\\\\r601.las\", Dict{Char,DataStructures.Trie{String}}('0' => DataStructures.Trie{String}(\"C:/Users/Alessio/Documents/potreeDirectory/pointclouds/CASALETTO\\\\data\\\\r\\\\r6010.las\", Dict{Char,DataStructures.Trie{String}}(), true),'1' => DataStructures.Trie{String}(\"C:/Users/Alessio/Documents/potreeDirectory/pointclouds/CASALETTO\\\\data\\\\r\\\\r6011.las\", Dict{Char,DataStructures.Trie{String}}(), true),'2' => DataStructures.Trie{String}(\"C:/Users/Alessio/Documents/potreeDirectory/pointclouds/CASALETTO\\\\data\\\\r\\\\r6012.las\", Dict{Char,DataStructures.Trie{String}}(), true),'3' => DataStructures.Trie{String}(\"C:/Users/Alessio/Documents/potreeDirectory/pointclouds/CASALETTO\\\\data\\\\r\\\\r6013.las\", Dict{Char,DataStructures.Trie{String}}(), true),'4' => DataStructures.Trie{String}(\"C:/Users/Alessio/Documents/potreeDirectory/pointclouds/CASALETTO\\\\data\\\\r\\\\r6014.las\", Dict{Char,DataStructures.Trie{String}}(), true),'5' => DataStructures.Trie{String}(\"C:/Users/Alessio/Documents/potreeDirectory/pointclouds/CASALETTO\\\\data\\\\r\\\\r6015.las\", Dict{Char,DataStructures.Trie{String}}(), true)), true),'2' => DataStructures.Trie{String}(\"C:/Users/Alessio/Documents/potreeDirectory/pointclouds/CASALETTO\\\\data\\\\r\\\\r602.las\", Dict{Char,DataStructures.Trie{String}}('0' => DataStructures.Trie{String}(\"C:/Users/Alessio/Documents/potreeDirectory/pointclouds/CASALETTO\\\\data\\\\r\\\\r6020.las\", Dict{Char,DataStructures.Trie{String}}(), true),'1' => DataStructures.Trie{String}(\"C:/Users/Alessio/Documents/potreeDirectory/pointclouds/CASALETTO\\\\data\\\\r\\\\r6021.las\", Dict{Char,DataStructures.Trie{String}}(), true),'2' => DataStructures.Trie{String}(\"C:/Users/Alessio/Documents/potreeDirectory/pointclouds/CASALETTO\\\\data\\\\r\\\\r6022.las\", Dict{Char,DataStructures.Trie{String}}(), true),'4' => DataStructures.Trie{String}(\"C:/Users/Alessio/Documents/potreeDirectory/pointclouds/CASALETTO\\\\data\\\\r\\\\r6024.las\", Dict{Char,DataStructures.Trie{String}}(), true),'6' => DataStructures.Trie{String}(\"C:/Users/Alessio/Documents/potreeDirectory/pointclouds/CASALETTO\\\\data\\\\r\\\\r6026.las\", Dict{Char,DataStructures.Trie{String}}(), true)), true),'3' => DataStructures.Trie{String}(\"C:/Users/Alessio/Documents/potreeDirectory/pointclouds/CASALETTO\\\\data\\\\r\\\\r603.las\", Dict{Char,DataStructures.Trie{String}}(), true),'4' => DataStructures.Trie{String}(\"C:/Users/Alessio/Documents/potreeDirectory/pointclouds/CASALETTO\\\\data\\\\r\\\\r604.las\", Dict{Char,DataStructures.Trie{String}}(), true)), true),'1' => DataStructures.Trie{String}(\"C:/Users/Alessio/Documents/potreeDirectory/pointclouds/CASALETTO\\\\data\\\\r\\\\r61.las\", Dict{Char,DataStructures.Trie{String}}(), true),'2' => DataStructures.Trie{String}(\"C:/Users/Alessio/Documents/potreeDirectory/pointclouds/CASALETTO\\\\data\\\\r\\\\r62.las\", Dict{Char,DataStructures.Trie{String}}(), true)), true)), true)"
      ]
     },
     "metadata": {},
     "execution_count": 7
    }
   ],
   "source": [
    "trie = @btime FileManager.potree2trie(potree)"
   ]
  },
  {
   "cell_type": "code",
   "execution_count": 8,
   "metadata": {},
   "outputs": [
    {
     "output_type": "stream",
     "name": "stdout",
     "text": [
      " \n",
      "Search in C:/Users/Alessio/Documents/potreeDirectory/pointclouds/CASALETTO\\data\\r\n",
      " \n",
      "Search in C:/Users/Alessio/Documents/potreeDirectory/pointclouds/CASALETTO\\data\\r\n",
      " \n",
      "Search in C:/Users/Alessio/Documents/potreeDirectory/pointclouds/CASALETTO\\data\\r\n",
      " \n",
      "Search in C:/Users/Alessio/Documents/potreeDirectory/pointclouds/CASALETTO\\data\\r\n",
      " \n",
      "Search in C:/Users/Alessio/Documents/potreeDirectory/pointclouds/CASALETTO\\data\\r\n",
      " \n",
      "Search in C:/Users/Alessio/Documents/potreeDirectory/pointclouds/CASALETTO\\data\\r\n",
      " \n",
      "Search in C:/Users/Alessio/Documents/potreeDirectory/pointclouds/CASALETTO\\data\\r\n",
      " \n",
      "Search in C:/Users/Alessio/Documents/potreeDirectory/pointclouds/CASALETTO\\data\\r\n",
      " \n",
      "Search in C:/Users/Alessio/Documents/potreeDirectory/pointclouds/CASALETTO\\data\\r\n",
      " \n",
      "Search in C:/Users/Alessio/Documents/potreeDirectory/pointclouds/CASALETTO\\data\\r\n",
      " \n",
      "Search in C:/Users/Alessio/Documents/potreeDirectory/pointclouds/CASALETTO\\data\\r\n",
      " \n",
      "Search in C:/Users/Alessio/Documents/potreeDirectory/pointclouds/CASALETTO\\data\\r\n",
      " \n",
      "Search in C:/Users/Alessio/Documents/potreeDirectory/pointclouds/CASALETTO\\data\\r\n",
      " \n",
      "Search in C:/Users/Alessio/Documents/potreeDirectory/pointclouds/CASALETTO\\data\\r\n",
      " \n",
      "Search in C:/Users/Alessio/Documents/potreeDirectory/pointclouds/CASALETTO\\data\\r\n",
      " \n",
      "Search in C:/Users/Alessio/Documents/potreeDirectory/pointclouds/CASALETTO\\data\\r\n",
      " \n",
      "Search in C:/Users/Alessio/Documents/potreeDirectory/pointclouds/CASALETTO\\data\\r\n",
      " \n",
      "Search in C:/Users/Alessio/Documents/potreeDirectory/pointclouds/CASALETTO\\data\\r\n",
      " \n",
      "Search in C:/Users/Alessio/Documents/potreeDirectory/pointclouds/CASALETTO\\data\\r\n",
      " \n",
      "Search in C:/Users/Alessio/Documents/potreeDirectory/pointclouds/CASALETTO\\data\\r\n",
      " \n",
      "Search in C:/Users/Alessio/Documents/potreeDirectory/pointclouds/CASALETTO\\data\\r\n",
      " \n",
      "Search in C:/Users/Alessio/Documents/potreeDirectory/pointclouds/CASALETTO\\data\\r\n",
      " \n",
      "Search in C:/Users/Alessio/Documents/potreeDirectory/pointclouds/CASALETTO\\data\\r\n",
      " \n",
      "Search in C:/Users/Alessio/Documents/potreeDirectory/pointclouds/CASALETTO\\data\\r\n",
      " \n",
      "Search in C:/Users/Alessio/Documents/potreeDirectory/pointclouds/CASALETTO\\data\\r\n",
      " \n",
      "Search in C:/Users/Alessio/Documents/potreeDirectory/pointclouds/CASALETTO\\data\\r\n",
      " \n",
      "Search in C:/Users/Alessio/Documents/potreeDirectory/pointclouds/CASALETTO\\data\\r\n",
      " \n",
      "Search in C:/Users/Alessio/Documents/potreeDirectory/pointclouds/CASALETTO\\data\\r\n",
      " \n",
      "Search in C:/Users/Alessio/Documents/potreeDirectory/pointclouds/CASALETTO\\data\\r\n",
      " \n",
      "Search in C:/Users/Alessio/Documents/potreeDirectory/pointclouds/CASALETTO\\data\\r\n",
      " \n",
      "Search in C:/Users/Alessio/Documents/potreeDirectory/pointclouds/CASALETTO\\data\\r\n",
      " \n",
      "Search in C:/Users/Alessio/Documents/potreeDirectory/pointclouds/CASALETTO\\data\\r\n",
      " \n",
      "Search in C:/Users/Alessio/Documents/potreeDirectory/pointclouds/CASALETTO\\data\\r\n",
      " \n",
      "Search in C:/Users/Alessio/Documents/potreeDirectory/pointclouds/CASALETTO\\data\\r\n",
      " \n",
      "Search in C:/Users/Alessio/Documents/potreeDirectory/pointclouds/CASALETTO\\data\\r\n",
      " \n",
      "Search in C:/Users/Alessio/Documents/potreeDirectory/pointclouds/CASALETTO\\data\\r\n",
      " \n",
      "Search in C:/Users/Alessio/Documents/potreeDirectory/pointclouds/CASALETTO\\data\\r\n",
      " \n",
      "Search in C:/Users/Alessio/Documents/potreeDirectory/pointclouds/CASALETTO\\data\\r\n",
      " \n",
      "Search in C:/Users/Alessio/Documents/potreeDirectory/pointclouds/CASALETTO\\data\\r\n",
      "  287.007 ms (139243 allocations: 23.99 MiB)\n"
     ]
    },
    {
     "output_type": "execute_result",
     "data": {
      "text/plain": [
       "pointclouds/CASALETTO\\\\data\\\\r\\\\42372\\\\r42372.las\", Dict{Char,DataStructures.Trie{String}}(), true),'3' => DataStructures.Trie{String}(\"C:/Users/Alessio/Documents/potreeDirectory/pointclouds/CASALETTO\\\\data\\\\r\\\\42373\\\\r42373.las\", Dict{Char,DataStructures.Trie{String}}(), true),'4' => DataStructures.Trie{String}(\"C:/Users/Alessio/Documents/potreeDirectory/pointclouds/CASALETTO\\\\data\\\\r\\\\42374\\\\r42374.las\", Dict{Char,DataStructures.Trie{String}}(), true),'7' => DataStructures.Trie{String}(\"C:/Users/Alessio/Documents/potreeDirectory/pointclouds/CASALETTO\\\\data\\\\r\\\\42377\\\\r42377.las\", Dict{Char,DataStructures.Trie{String}}(), true),'5' => DataStructures.Trie{String}(\"C:/Users/Alessio/Documents/potreeDirectory/pointclouds/CASALETTO\\\\data\\\\r\\\\42375\\\\r42375.las\", Dict{Char,DataStructures.Trie{String}}(), true)), true),'6' => DataStructures.Trie{String}(\"C:/Users/Alessio/Documents/potreeDirectory/pointclouds/CASALETTO\\\\data\\\\r\\\\r4236.las\", Dict{Char,DataStructures.Trie{String}}(), true),'5' => DataStructures.Trie{String}(\"C:/Users/Alessio/Documents/potreeDirectory/pointclouds/CASALETTO\\\\data\\\\r\\\\r4235.las\", Dict{Char,DataStructures.Trie{String}}('2' => DataStructures.Trie{String}(\"C:/Users/Alessio/Documents/potreeDirectory/pointclouds/CASALETTO\\\\data\\\\r\\\\42352\\\\r42352.las\", Dict{Char,DataStructures.Trie{String}}(), true),'3' => DataStructures.Trie{String}(\"C:/Users/Alessio/Documents/potreeDirectory/pointclouds/CASALETTO\\\\data\\\\r\\\\42353\\\\r42353.las\", Dict{Char,DataStructures.Trie{String}}(), true),'4' => DataStructures.Trie{String}(\"C:/Users/Alessio/Documents/potreeDirectory/pointclouds/CASALETTO\\\\data\\\\r\\\\42354\\\\r42354.las\", Dict{Char,DataStructures.Trie{String}}(), true),'7' => DataStructures.Trie{String}(\"C:/Users/Alessio/Documents/potreeDirectory/pointclouds/CASALETTO\\\\data\\\\r\\\\42357\\\\r42357.las\", Dict{Char,DataStructures.Trie{String}}(), true),'6' => DataStructures.Trie{String}(\"C:/Users/Alessio/Documents/potreeDirectory/pointclouds/CASALETTO\\\\data\\\\r\\\\42356\\\\r42356.las\", Dict{Char,DataStructures.Trie{String}}(), true),'5' => DataStructures.Trie{String}(\"C:/Users/Alessio/Documents/potreeDirectory/pointclouds/CASALETTO\\\\data\\\\r\\\\42355\\\\r42355.las\", Dict{Char,DataStructures.Trie{String}}(), true)), true)), true),'4' => DataStructures.Trie{String}(\"C:/Users/Alessio/Documents/potreeDirectory/pointclouds/CASALETTO\\\\data\\\\r\\\\r424.las\", Dict{Char,DataStructures.Trie{String}}('0' => DataStructures.Trie{String}(\"C:/Users/Alessio/Documents/potreeDirectory/pointclouds/CASALETTO\\\\data\\\\r\\\\r4240.las\", Dict{Char,DataStructures.Trie{String}}('2' => DataStructures.Trie{String}(\"C:/Users/Alessio/Documents/potreeDirectory/pointclouds/CASALETTO\\\\data\\\\r\\\\42402\\\\r42402.las\", Dict{Char,DataStructures.Trie{String}}(), true),'3' => DataStructures.Trie{String}(\"C:/Users/Alessio/Documents/potreeDirectory/pointclouds/CASALETTO\\\\data\\\\r\\\\42403\\\\r42403.las\", Dict{Char,DataStructures.Trie{String}}(), true),'4' => DataStructures.Trie{String}(\"C:/Users/Alessio/Documents/potreeDirectory/pointclouds/CASALETTO\\\\data\\\\r\\\\42404\\\\r42404.las\", Dict{Char,DataStructures.Trie{String}}(), true),'7' => DataStructures.Trie{String}(\"C:/Users/Alessio/Documents/potreeDirectory/pointclouds/CASALETTO\\\\data\\\\r\\\\42407\\\\r42407.las\", Dict{Char,DataStructures.Trie{String}}(), true),'6' => DataStructures.Trie{String}(\"C:/Users/Alessio/Documents/potreeDirectory/pointclouds/CASALETTO\\\\data\\\\r\\\\42406\\\\r42406.las\", Dict{Char,DataStructures.Trie{String}}(), true),'5' => DataStructures.Trie{String}(\"C:/Users/Alessio/Documents/potreeDirectory/pointclouds/CASALETTO\\\\data\\\\r\\\\42405\\\\r42405.las\", Dict{Char,DataStructures.Trie{String}}(), true)), true),'1' => DataStructures.Trie{String}(\"C:/Users/Alessio/Documents/potreeDirectory/pointclouds/CASALETTO\\\\data\\\\r\\\\r4241.las\", Dict{Char,DataStructures.Trie{String}}('2' => DataStructures.Trie{String}(\"C:/Users/Alessio/Documents/potreeDirectory/pointclouds/CASALETTO\\\\data\\\\r\\\\42412\\\\r42412.las\", Dict{Char,DataStructures.Trie{String}}(), true),'3' => DataStructures.Trie{String}(\"C:/Users/Alessio/Documents/potreeDirectory/pointclouds/CASALETTO\\\\data\\\\r\\\\42413\\\\r42413.las\", Dict{Char,DataStructures.Trie{String}}(), true),'4' => DataStructures.Trie{String}(\"C:/Users/Alessio/Documents/potreeDirectory/pointclouds/CASALETTO\\\\data\\\\r\\\\42414\\\\r42414.las\", Dict{Char,DataStructures.Trie{String}}(), true),'7' => DataStructures.Trie{String}(\"C:/Users/Alessio/Documents/potreeDirectory/pointclouds/CASALETTO\\\\data\\\\r\\\\42417\\\\r42417.las\", Dict{Char,DataStructures.Trie{String}}(), true),'6' => DataStructures.Trie{String}(\"C:/Users/Alessio/Documents/potreeDirectory/pointclouds/CASALETTO\\\\data\\\\r\\\\42416\\\\r42416.las\", Dict{Char,DataStructures.Trie{String}}(), true),'5' => DataStructures.Trie{String}(\"C:/Users/Alessio/Documents/potreeDirectory/pointclouds/CASALETTO\\\\data\\\\r\\\\42415\\\\r42415.las\", Dict{Char,DataStructures.Trie{String}}(), true)), true),'2' => DataStructures.Trie{String}(\"C:/Users/Alessio/Documents/potreeDirectory/pointclouds/CASALETTO\\\\data\\\\r\\\\r4242.las\", Dict{Char,DataStructures.Trie{String}}('0' => DataStructures.Trie{String}(\"C:/Users/Alessio/Documents/potreeDirectory/pointclouds/CASALETTO\\\\data\\\\r\\\\42420\\\\r42420.las\", Dict{Char,DataStructures.Trie{String}}(), true),'1' => DataStructures.Trie{String}(\"C:/Users/Alessio/Documents/potreeDirectory/pointclouds/CASALETTO\\\\data\\\\r\\\\42421\\\\r42421.las\", Dict{Char,DataStructures.Trie{String}}(), true),'2' => DataStructures.Trie{String}(\"C:/Users/Alessio/Documents/potreeDirectory/pointclouds/CASALETTO\\\\data\\\\r\\\\42422\\\\r42422.las\", Dict{Char,DataStructures.Trie{String}}(), true),'3' => DataStructures.Trie{String}(\"C:/Users/Alessio/Documents/potreeDirectory/pointclouds/CASALETTO\\\\data\\\\r\\\\42423\\\\r42423.las\", Dict{Char,DataStructures.Trie{String}}(), true),'4' => DataStructures.Trie{String}(\"C:/Users/Alessio/Documents/potreeDirectory/pointclouds/CASALETTO\\\\data\\\\r\\\\42424\\\\r42424.las\", Dict{Char,DataStructures.Trie{String}}(), true),'6' => DataStructures.Trie{String}(\"C:/Users/Alessio/Documents/potreeDirectory/pointclouds/CASALETTO\\\\data\\\\r\\\\42426\\\\r42426.las\", Dict{Char,DataStructures.Trie{String}}(), true)), true),'3' => DataStructures.Trie{String}(\"C:/Users/Alessio/Documents/potreeDirectory/pointclouds/CASALETTO\\\\data\\\\r\\\\r4243.las\", Dict{Char,DataStructures.Trie{String}}('0' => DataStructures.Trie{String}(\"C:/Users/Alessio/Documents/potreeDirectory/pointclouds/CASALETTO\\\\data\\\\r\\\\42430\\\\r42430.las\", Dict{Char,DataStructures.Trie{String}}(), true),'1' => DataStructures.Trie{String}(\"C:/Users/Alessio/Documents/potreeDirectory/pointclouds/CASALETTO\\\\data\\\\r\\\\42431\\\\r42431.las\", Dict{Char,DataStructures.Trie{String}}(), true),'2' => DataStructures.Trie{String}(\"C:/Users/Alessio/Documents/potreeDirectory/pointclouds/CASALETTO\\\\data\\\\r\\\\42432\\\\r42432.las\", Dict{Char,DataStructures.Trie{String}}(), true),'3' => DataStructures.Trie{String}(\"C:/Users/Alessio/Documents/potreeDirectory/pointclouds/CASALETTO\\\\data\\\\r\\\\42433\\\\r42433.las\", Dict{Char,DataStructures.Trie{String}}(), true),'5' => DataStructures.Trie{String}(\"C:/Users/Alessio/Documents/potreeDirectory/pointclouds/CASALETTO\\\\data\\\\r\\\\42435\\\\r42435.las\", Dict{Char,DataStructures.Trie{String}}(), true)), true),'4' => DataStructures.Trie{String}(\"C:/Users/Alessio/Documents/potreeDirectory/pointclouds/CASALETTO\\\\data\\\\r\\\\r4244.las\", Dict{Char,DataStructures.Trie{String}}('0' => DataStructures.Trie{String}(\"C:/Users/Alessio/Documents/potreeDirectory/pointclouds/CASALETTO\\\\data\\\\r\\\\42440\\\\r42440.las\", Dict{Char,DataStructures.Trie{String}}(), true),'2' => DataStructures.Trie{String}(\"C:/Users/Alessio/Documents/potreeDirectory/pointclouds/CASALETTO\\\\data\\\\r\\\\42442\\\\r42442.las\", Dict{Char,DataStructures.Trie{String}}(), true),'4' => DataStructures.Trie{String}(\"C:/Users/Alessio/Documents/potreeDirectory/pointclouds/CASALETTO\\\\data\\\\r\\\\42444\\\\r42444.las\", Dict{Char,DataStructures.Trie{String}}(), true),'6' => DataStructures.Trie{String}(\"C:/Users/Alessio/Documents/potreeDirectory/pointclouds/CASALETTO\\\\data\\\\r\\\\42446\\\\r42446.las\", Dict{Char,DataStructures.Trie{String}}(), true)), true),'6' => DataStructures.Trie{String}(\"C:/Users/Alessio/Documents/potreeDirectory/pointclouds/CASALETTO\\\\data\\\\r\\\\r4246.las\", Dict{Char,DataStructures.Trie{String}}(), true),'5' => DataStructures.Trie{String}(\"C:/Users/Alessio/Documents/potreeDirectory/pointclouds/CASALETTO\\\\data\\\\r\\\\r4245.las\", Dict{Char,DataStructures.Trie{String}}(), true)), true),'7' => DataStructures.Trie{String}(\"C:/Users/Alessio/Documents/potreeDirectory/pointclouds/CASALETTO\\\\data\\\\r\\\\r427.las\", Dict{Char,DataStructures.Trie{String}}(), true),'6' => DataStructures.Trie{String}(\"C:/Users/Alessio/Documents/potreeDirectory/pointclouds/CASALETTO\\\\data\\\\r\\\\r426.las\", Dict{Char,DataStructures.Trie{String}}('0' => DataStructures.Trie{String}(\"C:/Users/Alessio/Documents/potreeDirectory/pointclouds/CASALETTO\\\\data\\\\r\\\\r4260.las\", Dict{Char,DataStructures.Trie{String}}(), true),'1' => DataStructures.Trie{String}(\"C:/Users/Alessio/Documents/potreeDirectory/pointclouds/CASALETTO\\\\data\\\\r\\\\r4261.las\", Dict{Char,DataStructures.Trie{String}}(), true),'2' => DataStructures.Trie{String}(\"C:/Users/Alessio/Documents/potreeDirectory/pointclouds/CASALETTO\\\\data\\\\r\\\\r4262.las\", Dict{Char,DataStructures.Trie{String}}(), true),'4' => DataStructures.Trie{String}(\"C:/Users/Alessio/Documents/potreeDirectory/pointclouds/CASALETTO\\\\data\\\\r\\\\r4264.las\", Dict{Char,DataStructures.Trie{String}}(), true),'6' => DataStructures.Trie{String}(\"C:/Users/Alessio/Documents/potreeDirectory/pointclouds/CASALETTO\\\\data\\\\r\\\\r4266.las\", Dict{Char,DataStructures.Trie{String}}(), true)), true),'5' => DataStructures.Trie{String}(\"C:/Users/Alessio/Documents/potreeDirectory/pointclouds/CASALETTO\\\\data\\\\r\\\\r425.las\", Dict{Char,DataStructures.Trie{String}}('0' => DataStructures.Trie{String}(\"C:/Users/Alessio/Documents/potreeDirectory/pointclouds/CASALETTO\\\\data\\\\r\\\\r4250.las\", Dict{Char,DataStructures.Trie{String}}(), true),'2' => DataStructures.Trie{String}(\"C:/Users/Alessio/Documents/potreeDirectory/pointclouds/CASALETTO\\\\data\\\\r\\\\r4252.las\", Dict{Char,DataStructures.Trie{String}}('0' => DataStructures.Trie{String}(\"C:/Users/Alessio/Documents/potreeDirectory/pointclouds/CASALETTO\\\\data\\\\r\\\\42520\\\\r42520.las\", Dict{Char,DataStructures.Trie{String}}(), true),'1' => DataStructures.Trie{String}(\"C:/Users/Alessio/Documents/potreeDirectory/pointclouds/CASALETTO\\\\data\\\\r\\\\42521\\\\r42521.las\", Dict{Char,DataStructures.Trie{String}}(), true),'2' => DataStructures.Trie{String}(\"C:/Users/Alessio/Documents/potreeDirectory/pointclouds/CASALETTO\\\\data\\\\r\\\\42522\\\\r42522.las\", Dict{Char,DataStructures.Trie{String}}(), true),'3' => DataStructures.Trie{String}(\"C:/Users/Alessio/Documents/potreeDirectory/pointclouds/CASALETTO\\\\data\\\\r\\\\42523\\\\r42523.las\", Dict{Char,DataStructures.Trie{String}}(), true),'4' => DataStructures.Trie{String}(\"C:/Users/Alessio/Documents/potreeDirectory/pointclouds/CASALETTO\\\\data\\\\r\\\\42524\\\\r42524.las\", Dict{Char,DataStructures.Trie{String}}(), true)), true),'3' => DataStructures.Trie{String}(\"C:/Users/Alessio/Documents/potreeDirectory/pointclouds/CASALETTO\\\\data\\\\r\\\\r4253.las\", Dict{Char,DataStructures.Trie{String}}('0' => DataStructures.Trie{String}(\"C:/Users/Alessio/Documents/potreeDirectory/pointclouds/CASALETTO\\\\data\\\\r\\\\42530\\\\r42530.las\", Dict{Char,DataStructures.Trie{String}}(), true),'1' => DataStructures.Trie{String}(\"C:/Users/Alessio/Documents/potreeDirectory/pointclouds/CASALETTO\\\\data\\\\r\\\\42531\\\\r42531.las\", Dict{Char,DataStructures.Trie{String}}(), true),'2' => DataStructures.Trie{String}(\"C:/Users/Alessio/Documents/potreeDirectory/pointclouds/CASALETTO\\\\data\\\\r\\\\42532\\\\r42532.las\", Dict{Char,DataStructures.Trie{String}}(), true),'3' => DataStructures.Trie{String}(\"C:/Users/Alessio/Documents/potreeDirectory/pointclouds/CASALETTO\\\\data\\\\r\\\\42533\\\\r42533.las\", Dict{Char,DataStructures.Trie{String}}(), true),'7' => DataStructures.Trie{String}(\"C:/Users/Alessio/Documents/potreeDirectory/pointclouds/CASALETTO\\\\data\\\\r\\\\42537\\\\r42537.las\", Dict{Char,DataStructures.Trie{String}}(), true),'5' => DataStructures.Trie{String}(\"C:/Users/Alessio/Documents/potreeDirectory/pointclouds/CASALETTO\\\\data\\\\r\\\\42535\\\\r42535.las\", Dict{Char,DataStructures.Trie{String}}(), true)), true),'4' => DataStructures.Trie{String}(\"C:/Users/Alessio/Documents/potreeDirectory/pointclouds/CASALETTO\\\\data\\\\r\\\\r4254.las\", Dict{Char,DataStructures.Trie{String}}(), true)), true)), true),'3' => DataStructures.Trie{String}(\"C:/Users/Alessio/Documents/potreeDirectory/pointclouds/CASALETTO\\\\data\\\\r\\\\r43.las\", Dict{Char,DataStructures.Trie{String}}('0' => DataStructures.Trie{String}(\"C:/Users/Alessio/Documents/potreeDirectory/pointclouds/CASALETTO\\\\data\\\\r\\\\r430.las\", Dict{Char,DataStructures.Trie{String}}('0' => DataStructures.Trie{String}(\"C:/Users/Alessio/Documents/potreeDirectory/pointclouds/CASALETTO\\\\data\\\\r\\\\r4300.las\", Dict{Char,DataStructures.Trie{String}}(), true),'4' => DataStructures.Trie{String}(\"C:/Users/Alessio/Documents/potreeDirectory/pointclouds/CASALETTO\\\\data\\\\r\\\\r4304.las\", Dict{Char,DataStructures.Trie{String}}(), true),'6' => DataStructures.Trie{String}(\"C:/Users/Alessio/Documents/potreeDirectory/pointclouds/CASALETTO\\\\data\\\\r\\\\r4306.las\", Dict{Char,DataStructures.Trie{String}}(), true)), true),'2' => DataStructures.Trie{String}(\"C:/Users/Alessio/Documents/potreeDirectory/pointclouds/CASALETTO\\\\data\\\\r\\\\r432.las\", Dict{Char,DataStructures.Trie{String}}(), true),'4' => DataStructures.Trie{String}(\"C:/Users/Alessio/Documents/potreeDirectory/pointclouds/CASALETTO\\\\data\\\\r\\\\r434.las\", Dict{Char,DataStructures.Trie{String}}(), true)), true),'4' => DataStructures.Trie{String}(\"C:/Users/Alessio/Documents/potreeDirectory/pointclouds/CASALETTO\\\\data\\\\r\\\\r44.las\", Dict{Char,DataStructures.Trie{String}}('2' => DataStructures.Trie{String}(\"C:/Users/Alessio/Documents/potreeDirectory/pointclouds/CASALETTO\\\\data\\\\r\\\\r442.las\", Dict{Char,DataStructures.Trie{String}}('0' => DataStructures.Trie{String}(\"C:/Users/Alessio/Documents/potreeDirectory/pointclouds/CASALETTO\\\\data\\\\r\\\\r4420.las\", Dict{Char,DataStructures.Trie{String}}(), true),'2' => DataStructures.Trie{String}(\"C:/Users/Alessio/Documents/potreeDirectory/pointclouds/CASALETTO\\\\data\\\\r\\\\r4422.las\", Dict{Char,DataStructures.Trie{String}}('0' => DataStructures.Trie{String}(\"C:/Users/Alessio/Documents/potreeDirectory/pointclouds/CASALETTO\\\\data\\\\r\\\\44220\\\\r44220.las\", Dict{Char,DataStructures.Trie{String}}(), true),'2' => DataStructures.Trie{String}(\"C:/Users/Alessio/Documents/potreeDirectory/pointclouds/CASALETTO\\\\data\\\\r\\\\44222\\\\r44222.las\", Dict{Char,DataStructures.Trie{String}}(), true),'4' => DataStructures.Trie{String}(\"C:/Users/Alessio/Documents/potreeDirectory/pointclouds/CASALETTO\\\\data\\\\r\\\\44224\\\\r44224.las\", Dict{Char,DataStructures.Trie{String}}(), true),'6' => DataStructures.Trie{String}(\"C:/Users/Alessio/Documents/potreeDirectory/pointclouds/CASALETTO\\\\data\\\\r\\\\44226\\\\r44226.las\", Dict{Char,DataStructures.Trie{String}}(), true)), true)), true)), true),'6' => DataStructures.Trie{String}(\"C:/Users/Alessio/Documents/potreeDirectory/pointclouds/CASALETTO\\\\data\\\\r\\\\r46.las\", Dict{Char,DataStructures.Trie{String}}(), true)), true),'6' => DataStructures.Trie{String}(\"C:/Users/Alessio/Documents/potreeDirectory/pointclouds/CASALETTO\\\\data\\\\r\\\\r6.las\", Dict{Char,DataStructures.Trie{String}}('0' => DataStructures.Trie{String}(\"C:/Users/Alessio/Documents/potreeDirectory/pointclouds/CASALETTO\\\\data\\\\r\\\\r60.las\", Dict{Char,DataStructures.Trie{String}}('0' => DataStructures.Trie{String}(\"C:/Users/Alessio/Documents/potreeDirectory/pointclouds/CASALETTO\\\\data\\\\r\\\\r600.las\", Dict{Char,DataStructures.Trie{String}}('0' => DataStructures.Trie{String}(\"C:/Users/Alessio/Documents/potreeDirectory/pointclouds/CASALETTO\\\\data\\\\r\\\\r6000.las\", Dict{Char,DataStructures.Trie{String}}(), true),'1' => DataStructures.Trie{String}(\"C:/Users/Alessio/Documents/potreeDirectory/pointclouds/CASALETTO\\\\data\\\\r\\\\r6001.las\", Dict{Char,DataStructures.Trie{String}}(), true),'2' => DataStructures.Trie{String}(\"C:/Users/Alessio/Documents/potreeDirectory/pointclouds/CASALETTO\\\\data\\\\r\\\\r6002.las\", Dict{Char,DataStructures.Trie{String}}(), true),'3' => DataStructures.Trie{String}(\"C:/Users/Alessio/Documents/potreeDirectory/pointclouds/CASALETTO\\\\data\\\\r\\\\r6003.las\", Dict{Char,DataStructures.Trie{String}}(), true),'4' => DataStructures.Trie{String}(\"C:/Users/Alessio/Documents/potreeDirectory/pointclouds/CASALETTO\\\\data\\\\r\\\\r6004.las\", Dict{Char,DataStructures.Trie{String}}(), true),'7' => DataStructures.Trie{String}(\"C:/Users/Alessio/Documents/potreeDirectory/pointclouds/CASALETTO\\\\data\\\\r\\\\r6007.las\", Dict{Char,DataStructures.Trie{String}}(), true),'6' => DataStructures.Trie{String}(\"C:/Users/Alessio/Documents/potreeDirectory/pointclouds/CASALETTO\\\\data\\\\r\\\\r6006.las\", Dict{Char,DataStructures.Trie{String}}(), true),'5' => DataStructures.Trie{String}(\"C:/Users/Alessio/Documents/potreeDirectory/pointclouds/CASALETTO\\\\data\\\\r\\\\r6005.las\", Dict{Char,DataStructures.Trie{String}}(), true)), true),'1' => DataStructures.Trie{String}(\"C:/Users/Alessio/Documents/potreeDirectory/pointclouds/CASALETTO\\\\data\\\\r\\\\r601.las\", Dict{Char,DataStructures.Trie{String}}('0' => DataStructures.Trie{String}(\"C:/Users/Alessio/Documents/potreeDirectory/pointclouds/CASALETTO\\\\data\\\\r\\\\r6010.las\", Dict{Char,DataStructures.Trie{String}}(), true),'1' => DataStructures.Trie{String}(\"C:/Users/Alessio/Documents/potreeDirectory/pointclouds/CASALETTO\\\\data\\\\r\\\\r6011.las\", Dict{Char,DataStructures.Trie{String}}(), true),'2' => DataStructures.Trie{String}(\"C:/Users/Alessio/Documents/potreeDirectory/pointclouds/CASALETTO\\\\data\\\\r\\\\r6012.las\", Dict{Char,DataStructures.Trie{String}}(), true),'3' => DataStructures.Trie{String}(\"C:/Users/Alessio/Documents/potreeDirectory/pointclouds/CASALETTO\\\\data\\\\r\\\\r6013.las\", Dict{Char,DataStructures.Trie{String}}(), true),'4' => DataStructures.Trie{String}(\"C:/Users/Alessio/Documents/potreeDirectory/pointclouds/CASALETTO\\\\data\\\\r\\\\r6014.las\", Dict{Char,DataStructures.Trie{String}}(), true),'5' => DataStructures.Trie{String}(\"C:/Users/Alessio/Documents/potreeDirectory/pointclouds/CASALETTO\\\\data\\\\r\\\\r6015.las\", Dict{Char,DataStructures.Trie{String}}(), true)), true),'2' => DataStructures.Trie{String}(\"C:/Users/Alessio/Documents/potreeDirectory/pointclouds/CASALETTO\\\\data\\\\r\\\\r602.las\", Dict{Char,DataStructures.Trie{String}}('0' => DataStructures.Trie{String}(\"C:/Users/Alessio/Documents/potreeDirectory/pointclouds/CASALETTO\\\\data\\\\r\\\\r6020.las\", Dict{Char,DataStructures.Trie{String}}(), true),'1' => DataStructures.Trie{String}(\"C:/Users/Alessio/Documents/potreeDirectory/pointclouds/CASALETTO\\\\data\\\\r\\\\r6021.las\", Dict{Char,DataStructures.Trie{String}}(), true),'2' => DataStructures.Trie{String}(\"C:/Users/Alessio/Documents/potreeDirectory/pointclouds/CASALETTO\\\\data\\\\r\\\\r6022.las\", Dict{Char,DataStructures.Trie{String}}(), true),'4' => DataStructures.Trie{String}(\"C:/Users/Alessio/Documents/potreeDirectory/pointclouds/CASALETTO\\\\data\\\\r\\\\r6024.las\", Dict{Char,DataStructures.Trie{String}}(), true),'6' => DataStructures.Trie{String}(\"C:/Users/Alessio/Documents/potreeDirectory/pointclouds/CASALETTO\\\\data\\\\r\\\\r6026.las\", Dict{Char,DataStructures.Trie{String}}(), true)), true),'3' => DataStructures.Trie{String}(\"C:/Users/Alessio/Documents/potreeDirectory/pointclouds/CASALETTO\\\\data\\\\r\\\\r603.las\", Dict{Char,DataStructures.Trie{String}}(), true),'4' => DataStructures.Trie{String}(\"C:/Users/Alessio/Documents/potreeDirectory/pointclouds/CASALETTO\\\\data\\\\r\\\\r604.las\", Dict{Char,DataStructures.Trie{String}}(), true)), true),'1' => DataStructures.Trie{String}(\"C:/Users/Alessio/Documents/potreeDirectory/pointclouds/CASALETTO\\\\data\\\\r\\\\r61.las\", Dict{Char,DataStructures.Trie{String}}(), true),'2' => DataStructures.Trie{String}(\"C:/Users/Alessio/Documents/potreeDirectory/pointclouds/CASALETTO\\\\data\\\\r\\\\r62.las\", Dict{Char,DataStructures.Trie{String}}(), true)), true)), true)"
      ]
     },
     "metadata": {},
     "execution_count": 8
    }
   ],
   "source": [
    "trie = @btime Potree.potree2trie(potree)"
   ]
  }
 ]
}